{
  "nbformat": 4,
  "nbformat_minor": 0,
  "metadata": {
    "colab": {
      "provenance": [],
      "authorship_tag": "ABX9TyOl2uaZiiJmFVRVFPIVcVb6",
      "include_colab_link": true
    },
    "kernelspec": {
      "name": "python3",
      "display_name": "Python 3"
    },
    "language_info": {
      "name": "python"
    }
  },
  "cells": [
    {
      "cell_type": "markdown",
      "metadata": {
        "id": "view-in-github",
        "colab_type": "text"
      },
      "source": [
        "<a href=\"https://colab.research.google.com/github/aylindaiana/GuayerdxIBM-Activities/blob/main/ListaCompras_GuayerdxIBM.ipynb\" target=\"_parent\"><img src=\"https://colab.research.google.com/assets/colab-badge.svg\" alt=\"Open In Colab\"/></a>"
      ]
    },
    {
      "cell_type": "markdown",
      "source": [
        "# **LISTA DE COMPRAS**"
      ],
      "metadata": {
        "id": "Ied5RMRwNoPr"
      }
    },
    {
      "cell_type": "markdown",
      "source": [
        "Crea un programa interactivo que registre productos y calcule información de la compra.\n",
        "\n",
        "1)\tPedir al usuario el nombre y precio de 3 productos.\n",
        "2)\tGuardar los datos en una estructura que permita acceder tanto al nombre como al precio.\n",
        "3)\tCalcular el total a pagar.\n",
        "4)\tMostrar la lista de productos y el total.\n"
      ],
      "metadata": {
        "id": "S6PL_pmvNs3S"
      }
    },
    {
      "cell_type": "code",
      "source": [
        "print(\"Bienvenido a tu lista de compras \\n\")\n",
        "\n",
        "product ={}\n",
        "total=0\n",
        "for i in range(3):\n",
        "  product = input(\"Ingrese el nombre del producto: \")\n",
        "  precio = float(input(\"Tambien, Ingrese el precio: \"))\n",
        "  product[product] = precio\n",
        "  total+=precio\n",
        "print(f\"Total a pagar es: {total}\")\n",
        "print(f\"Productos: {product}\")"
      ],
      "metadata": {
        "colab": {
          "base_uri": "https://localhost:8080/",
          "height": 408
        },
        "id": "tn3qi0GMOXKl",
        "outputId": "3f7f0fd6-197c-42be-aca6-9a856b9c2c18"
      },
      "execution_count": 1,
      "outputs": [
        {
          "output_type": "stream",
          "name": "stdout",
          "text": [
            "Bienvenido a tu lista de compras \n",
            "\n"
          ]
        },
        {
          "output_type": "error",
          "ename": "KeyboardInterrupt",
          "evalue": "Interrupted by user",
          "traceback": [
            "\u001b[0;31m---------------------------------------------------------------------------\u001b[0m",
            "\u001b[0;31mKeyboardInterrupt\u001b[0m                         Traceback (most recent call last)",
            "\u001b[0;32m/tmp/ipython-input-3940414226.py\u001b[0m in \u001b[0;36m<cell line: 0>\u001b[0;34m()\u001b[0m\n\u001b[1;32m      4\u001b[0m \u001b[0mtotal\u001b[0m\u001b[0;34m=\u001b[0m\u001b[0;36m0\u001b[0m\u001b[0;34m\u001b[0m\u001b[0;34m\u001b[0m\u001b[0m\n\u001b[1;32m      5\u001b[0m \u001b[0;32mfor\u001b[0m \u001b[0mi\u001b[0m \u001b[0;32min\u001b[0m \u001b[0mrange\u001b[0m\u001b[0;34m(\u001b[0m\u001b[0;36m3\u001b[0m\u001b[0;34m)\u001b[0m\u001b[0;34m:\u001b[0m\u001b[0;34m\u001b[0m\u001b[0;34m\u001b[0m\u001b[0m\n\u001b[0;32m----> 6\u001b[0;31m   \u001b[0mproduct\u001b[0m \u001b[0;34m=\u001b[0m \u001b[0minput\u001b[0m\u001b[0;34m(\u001b[0m\u001b[0;34m\"Ingrese el nombre del producto: \"\u001b[0m\u001b[0;34m)\u001b[0m\u001b[0;34m\u001b[0m\u001b[0;34m\u001b[0m\u001b[0m\n\u001b[0m\u001b[1;32m      7\u001b[0m   \u001b[0mprecio\u001b[0m \u001b[0;34m=\u001b[0m \u001b[0mfloat\u001b[0m\u001b[0;34m(\u001b[0m\u001b[0minput\u001b[0m\u001b[0;34m(\u001b[0m\u001b[0;34m\"Tambien, Ingrese el precio: \"\u001b[0m\u001b[0;34m)\u001b[0m\u001b[0;34m)\u001b[0m\u001b[0;34m\u001b[0m\u001b[0;34m\u001b[0m\u001b[0m\n\u001b[1;32m      8\u001b[0m   \u001b[0mproduct\u001b[0m\u001b[0;34m[\u001b[0m\u001b[0mproduct\u001b[0m\u001b[0;34m]\u001b[0m \u001b[0;34m=\u001b[0m \u001b[0mprecio\u001b[0m\u001b[0;34m\u001b[0m\u001b[0;34m\u001b[0m\u001b[0m\n",
            "\u001b[0;32m/usr/local/lib/python3.12/dist-packages/ipykernel/kernelbase.py\u001b[0m in \u001b[0;36mraw_input\u001b[0;34m(self, prompt)\u001b[0m\n\u001b[1;32m   1175\u001b[0m                 \u001b[0;34m\"raw_input was called, but this frontend does not support input requests.\"\u001b[0m\u001b[0;34m\u001b[0m\u001b[0;34m\u001b[0m\u001b[0m\n\u001b[1;32m   1176\u001b[0m             )\n\u001b[0;32m-> 1177\u001b[0;31m         return self._input_request(\n\u001b[0m\u001b[1;32m   1178\u001b[0m             \u001b[0mstr\u001b[0m\u001b[0;34m(\u001b[0m\u001b[0mprompt\u001b[0m\u001b[0;34m)\u001b[0m\u001b[0;34m,\u001b[0m\u001b[0;34m\u001b[0m\u001b[0;34m\u001b[0m\u001b[0m\n\u001b[1;32m   1179\u001b[0m             \u001b[0mself\u001b[0m\u001b[0;34m.\u001b[0m\u001b[0m_parent_ident\u001b[0m\u001b[0;34m[\u001b[0m\u001b[0;34m\"shell\"\u001b[0m\u001b[0;34m]\u001b[0m\u001b[0;34m,\u001b[0m\u001b[0;34m\u001b[0m\u001b[0;34m\u001b[0m\u001b[0m\n",
            "\u001b[0;32m/usr/local/lib/python3.12/dist-packages/ipykernel/kernelbase.py\u001b[0m in \u001b[0;36m_input_request\u001b[0;34m(self, prompt, ident, parent, password)\u001b[0m\n\u001b[1;32m   1217\u001b[0m             \u001b[0;32mexcept\u001b[0m \u001b[0mKeyboardInterrupt\u001b[0m\u001b[0;34m:\u001b[0m\u001b[0;34m\u001b[0m\u001b[0;34m\u001b[0m\u001b[0m\n\u001b[1;32m   1218\u001b[0m                 \u001b[0;31m# re-raise KeyboardInterrupt, to truncate traceback\u001b[0m\u001b[0;34m\u001b[0m\u001b[0;34m\u001b[0m\u001b[0m\n\u001b[0;32m-> 1219\u001b[0;31m                 \u001b[0;32mraise\u001b[0m \u001b[0mKeyboardInterrupt\u001b[0m\u001b[0;34m(\u001b[0m\u001b[0;34m\"Interrupted by user\"\u001b[0m\u001b[0;34m)\u001b[0m \u001b[0;32mfrom\u001b[0m \u001b[0;32mNone\u001b[0m\u001b[0;34m\u001b[0m\u001b[0;34m\u001b[0m\u001b[0m\n\u001b[0m\u001b[1;32m   1220\u001b[0m             \u001b[0;32mexcept\u001b[0m \u001b[0mException\u001b[0m\u001b[0;34m:\u001b[0m\u001b[0;34m\u001b[0m\u001b[0;34m\u001b[0m\u001b[0m\n\u001b[1;32m   1221\u001b[0m                 \u001b[0mself\u001b[0m\u001b[0;34m.\u001b[0m\u001b[0mlog\u001b[0m\u001b[0;34m.\u001b[0m\u001b[0mwarning\u001b[0m\u001b[0;34m(\u001b[0m\u001b[0;34m\"Invalid Message:\"\u001b[0m\u001b[0;34m,\u001b[0m \u001b[0mexc_info\u001b[0m\u001b[0;34m=\u001b[0m\u001b[0;32mTrue\u001b[0m\u001b[0;34m)\u001b[0m\u001b[0;34m\u001b[0m\u001b[0;34m\u001b[0m\u001b[0m\n",
            "\u001b[0;31mKeyboardInterrupt\u001b[0m: Interrupted by user"
          ]
        }
      ]
    },
    {
      "cell_type": "code",
      "source": [
        "products = {}\n",
        "\n",
        "total = 0\n",
        "\n",
        "while len(products) < 3:\n",
        "\n",
        "    product = input(\"Nombre del producto: \")\n",
        "    try:\n",
        "        price = float(input(\"Precio del producto: \"))\n",
        "    except ValueError:\n",
        "        print(\"Introduzca un número entero o decimal.\")\n",
        "        continue\n",
        "\n",
        "    products [product] = price\n",
        "    total += price\n",
        "\n",
        "print(f\"Total a pagar: {total}\")\n",
        "for p in products:\n",
        "    print(p)"
      ],
      "metadata": {
        "colab": {
          "base_uri": "https://localhost:8080/"
        },
        "id": "L_LSSajvT2Lb",
        "outputId": "cccb86ef-9bc0-4850-adf6-368d6d27be87"
      },
      "execution_count": null,
      "outputs": [
        {
          "output_type": "stream",
          "name": "stdout",
          "text": [
            "Nombre del producto: pitusas\n",
            "Precio del producto: 9 de oro\n",
            "Introduzca un número entero o decimal.\n",
            "Nombre del producto: 10\n",
            "Precio del producto: 23\n",
            "Nombre del producto: casa\n",
            "Precio del producto: 32\n",
            "Nombre del producto: vena\n",
            "Precio del producto: 32\n",
            "Total a pagar: 87.0\n",
            "10\n",
            "casa\n",
            "vena\n"
          ]
        }
      ]
    },
    {
      "cell_type": "code",
      "source": [
        "from os import pipe2\n",
        "#Ejemplo simplke que cumple con la consigna\n",
        "def compras():\n",
        "  productos =[]\n",
        "  p1 = input(\"Ingrese el nombre del primer producto: \")\n",
        "  p1p = float(input(\"Ingrese su precio: \"))\n",
        "  productos[p1] = p1p\n",
        "\n",
        "  p2 = input(\"Ingrese el nombre del Segundo producto: \")\n",
        "  p2p = float(input(\"Ingrese su precio: \"))\n",
        "  productos[p2] = p2p\n",
        "\n",
        "  p3 = input(\"Ingrese el nombre del Tercer producto: \")\n",
        "  p3p = float(input(\"Ingrese su precio: \"))\n",
        "  productos[p3] = p3p\n",
        "\n",
        "  total = p1p + p2p + p3p\n",
        "  print(productos)\n",
        "  print(f\"Su total es: {total}\")\n",
        "compras()"
      ],
      "metadata": {
        "id": "9WdKOv7n8-Ln"
      },
      "execution_count": null,
      "outputs": []
    }
  ]
}